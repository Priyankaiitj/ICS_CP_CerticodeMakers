{
  "nbformat": 4,
  "nbformat_minor": 0,
  "metadata": {
    "colab": {
      "provenance": [],
      "authorship_tag": "ABX9TyNyHVYoNGuf3tF7jOs8DY3S",
      "include_colab_link": true
    },
    "kernelspec": {
      "name": "python3",
      "display_name": "Python 3"
    },
    "language_info": {
      "name": "python"
    }
  },
  "cells": [
    {
      "cell_type": "markdown",
      "metadata": {
        "id": "view-in-github",
        "colab_type": "text"
      },
      "source": [
        "<a href=\"https://colab.research.google.com/github/Priyankaiitj/ICS_CP_CerticodeMakers/blob/main/Untitled0.ipynb\" target=\"_parent\"><img src=\"https://colab.research.google.com/assets/colab-badge.svg\" alt=\"Open In Colab\"/></a>"
      ]
    },
    {
      "cell_type": "code",
      "source": [
        "import numpy as np\n",
        "import matplotlib.pyplot as plt"
      ],
      "metadata": {
        "id": "EYMle3bYWWhk"
      },
      "execution_count": null,
      "outputs": []
    },
    {
      "cell_type": "code",
      "execution_count": null,
      "metadata": {
        "id": "iwzTjNDaWRgK",
        "colab": {
          "base_uri": "https://localhost:8080/"
        },
        "outputId": "e7b02311-c03e-418f-e62f-f24100b8a3b5"
      },
      "outputs": [
        {
          "name": "stdout",
          "output_type": "stream",
          "text": [
            "Enter length : 60\n"
          ]
        }
      ],
      "source": [
        "# Properties of beam\n",
        "length = float(input(\"Enter length : \"))\n",
        "width = float(input(\"Enter width : \"))\n",
        "height = float(input(\"Enter height : \"))\n",
        "E = 70e9  # Young's modulus of the material (Pa)\n",
        "\n",
        "# Applied load\n",
        "load = float(input(\"Enter load in N : \"))  # Uniform load along the beam\n",
        "\n",
        "# Calculate stress\n",
        "I = (1/12) * width * height**3  # Moment of inertia\n",
        "y = height / 2  # Distance from the neutral axis to the outer fiber\n",
        "\n",
        "# Bending stress (assuming pure bending)\n",
        "sigma_bending = (load * length) / (width * height**2) * y\n",
        "\n",
        "# Shear stress (assuming constant shear force)\n",
        "V = load * length  # Shear force\n",
        "A = width * height  # Cross-sectional area of beam\n",
        "tau_shear = V / A\n",
        "\n",
        "# Mohr's circle parameters\n",
        "sigma_1 = sigma_bending  # Maximum normal stress (bending)\n",
        "sigma_2 = -sigma_bending  # Minimum normal stress (bending)\n",
        "tau_max = tau_shear  # Maximum shear stress\n",
        "\n",
        "# Plotting Mohr's circle\n",
        "theta = np.linspace(0, 2 * np.pi, 100)\n",
        "sigma_x = 0.5 * (sigma_1 + sigma_2) + 0.5 * (sigma_1 - sigma_2) * np.cos(2 * theta)\n",
        "tau_xy = 0.5 * (sigma_1 - sigma_2) * np.sin(2 * theta)\n",
        "\n",
        "plt.figure()\n",
        "plt.plot(sigma_x, tau_xy, label=\"Mohr's circle\")\n",
        "plt.scatter([sigma_1, sigma_2], [0, 0], color='red', label='Principal Stresses')\n",
        "plt.title('Mohr\\'s Circle for Plane Stress')\n",
        "plt.xlabel('Normal Stress (Pa)')\n",
        "plt.ylabel('Shear Stress (Pa)')\n",
        "plt.axhline(0, color='black',linewidth=0.5)\n",
        "plt.axvline(0, color='black',linewidth=0.5)\n",
        "plt.grid(color = 'gray', linestyle = '--', linewidth = 0.5)\n",
        "plt.legend()\n",
        "plt.show()\n"
      ]
    },
    {
      "cell_type": "code",
      "source": [
        "import numpy as np\n",
        "import matplotlib.pyplot as plt\n",
        "\n",
        "def cylindrical_rod_stress(radius, length, axial_load, material_yield_strength):\n",
        "    # Axial stress calculation\n",
        "    axial_stress = axial_load / (np.pi * radius**2)\n",
        "\n",
        "    # Hoop stress calculation (assuming axial load creates uniform stress)\n",
        "    hoop_stress = axial_stress\n",
        "\n",
        "    # Safety factor calculation (based on yield strength)\n",
        "    safety_factor = material_yield_strength / axial_stress\n",
        "\n",
        "    return axial_stress, hoop_stress, safety_factor\n",
        "\n",
        "def plot_stress_distribution(radius, axial_stress, hoop_stress):\n",
        "    theta = np.linspace(0, 2 * np.pi, 100)\n",
        "    plt.figure()\n",
        "    plt.plot(theta, np.full_like(theta, axial_stress), label=\"Axial Stress\")\n",
        "    plt.plot(theta, np.full_like(theta, hoop_stress), label=\"Hoop Stress\")\n",
        "    plt.title(\"Stress Distribution in Cylindrical Rod\")\n",
        "    plt.xlabel(\"Theta (radians)\")\n",
        "    plt.ylabel(\"Stress (Pa)\")\n",
        "    plt.legend()\n",
        "    plt.show()\n",
        "\n",
        "# Example usage\n",
        "radius_rod = 0.02  # Radius of the cylindrical rod in meters\n",
        "length_rod = 1.0  # Length of the cylindrical rod in meters\n",
        "axial_load_rod = 10000.0  # Axial load in Newtons\n",
        "yield_strength_material = 250000000.0  # Yield strength of the material in Pascals\n",
        "\n",
        "axial_stress_rod, hoop_stress_rod, safety_factor_rod = cylindrical_rod_stress(\n",
        "    radius_rod, length_rod, axial_load_rod, yield_strength_material\n",
        ")\n",
        "\n",
        "print(\"Axial Stress in Cylindrical Rod:\", axial_stress_rod, \"Pa\")\n",
        "print(\"Hoop Stress in Cylindrical Rod:\", hoop_stress_rod, \"Pa\")\n",
        "print(\"Safety Factor in Cylindrical Rod:\", safety_factor_rod)\n",
        "\n",
        "# Example usage to plot stress distribution\n",
        "plot_stress_distribution(radius_rod, axial_stress_rod, hoop_stress_rod)\n"
      ],
      "metadata": {
        "id": "NlaKOhCFllBp"
      },
      "execution_count": null,
      "outputs": []
    }
  ]
}